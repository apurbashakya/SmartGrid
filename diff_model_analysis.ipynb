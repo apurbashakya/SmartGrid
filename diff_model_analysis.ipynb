{
 "cells": [
  {
   "cell_type": "code",
   "execution_count": 1,
   "metadata": {},
   "outputs": [],
   "source": [
    "#multivariate multi-step time series forecasting models\n",
    "#data cleaning "
   ]
  },
  {
   "cell_type": "code",
   "execution_count": 2,
   "metadata": {},
   "outputs": [],
   "source": [
    "import numpy as np\n",
    "import matplotlib\n",
    "import matplotlib.dates as mdates\n",
    "import sys\n",
    "import pandas as pd\n",
    "from sklearn.metrics import mean_squared_error\n",
    "import math"
   ]
  },
  {
   "cell_type": "code",
   "execution_count": 3,
   "metadata": {},
   "outputs": [],
   "source": [
    "# load all data\n",
    "dataset = pd.read_csv(r\"C:\\Users\\jaska\\Downloads\\household_power_consumption.txt\", sep=';', header=0, low_memory=False, infer_datetime_format=True, parse_dates={'datetime':[0,1]}, index_col=['datetime'])"
   ]
  },
  {
   "cell_type": "code",
   "execution_count": 4,
   "metadata": {},
   "outputs": [],
   "source": [
    "# mark all missing values\n",
    "dataset.replace('?',float('nan'), inplace=True)\n",
    "dataset = dataset.astype('float32')"
   ]
  },
  {
   "cell_type": "code",
   "execution_count": 5,
   "metadata": {},
   "outputs": [],
   "source": [
    "# fill missing values with a value at the same time one day ago\n",
    "def fill_missing(values):\n",
    "\tone_day = 60 * 24\n",
    "\tfor row in range(values.shape[0]):\n",
    "\t\tfor col in range(values.shape[1]):\n",
    "\t\t\tif np.isnan(values[row, col]):\n",
    "\t\t\t\tvalues[row, col] = values[row - one_day, col]"
   ]
  },
  {
   "cell_type": "code",
   "execution_count": 6,
   "metadata": {},
   "outputs": [],
   "source": [
    "# fill missing\n",
    "fill_missing(dataset.values)"
   ]
  },
  {
   "cell_type": "code",
   "execution_count": 7,
   "metadata": {},
   "outputs": [],
   "source": [
    "# add a column for for the remainder of sub metering\n",
    "values = dataset.values\n",
    "dataset['sub_metering_4'] = (values[:,0] * 1000 / 60) - (values[:,4] + values[:,5] + values[:,6])"
   ]
  },
  {
   "cell_type": "code",
   "execution_count": 8,
   "metadata": {},
   "outputs": [],
   "source": [
    "# save updated dataset\n",
    "dataset.to_csv('household_power_consumption.csv')"
   ]
  },
  {
   "cell_type": "code",
   "execution_count": 9,
   "metadata": {},
   "outputs": [
    {
     "name": "stdout",
     "output_type": "stream",
     "text": [
      "(1442, 8)\n",
      "            Global_active_power  Global_reactive_power    Voltage  \\\n",
      "datetime                                                            \n",
      "2006-12-16             1209.176                 34.922   93552.53   \n",
      "2006-12-17             3390.460                226.006  345725.32   \n",
      "2006-12-18             2203.826                161.792  347373.64   \n",
      "2006-12-19             1666.194                150.942  348479.01   \n",
      "2006-12-20             2225.748                160.998  348923.61   \n",
      "\n",
      "            Global_intensity  Sub_metering_1  Sub_metering_2  Sub_metering_3  \\\n",
      "datetime                                                                       \n",
      "2006-12-16            5180.8             0.0           546.0          4926.0   \n",
      "2006-12-17           14398.6          2033.0          4187.0         13341.0   \n",
      "2006-12-18            9247.2          1063.0          2621.0         14018.0   \n",
      "2006-12-19            7094.0           839.0          7602.0          6197.0   \n",
      "2006-12-20            9313.0             0.0          2648.0         14063.0   \n",
      "\n",
      "            sub_metering_4  \n",
      "datetime                    \n",
      "2006-12-16    14680.933319  \n",
      "2006-12-17    36946.666732  \n",
      "2006-12-18    19028.433281  \n",
      "2006-12-19    13131.900043  \n",
      "2006-12-20    20384.800011  \n"
     ]
    }
   ],
   "source": [
    "# resample minute data to total for each day\n",
    "from pandas import read_csv\n",
    "# load the new file\n",
    "dataset = read_csv('household_power_consumption.csv', header=0, infer_datetime_format=True, parse_dates=['datetime'], index_col=['datetime'])\n",
    "# resample data to daily\n",
    "daily_groups = dataset.resample('D')\n",
    "daily_data = daily_groups.sum()\n",
    "# summarize\n",
    "print(daily_data.shape)\n",
    "print(daily_data.head())\n",
    "# save\n",
    "daily_data.to_csv('household_power_consumption_days.csv')"
   ]
  },
  {
   "cell_type": "code",
   "execution_count": 10,
   "metadata": {},
   "outputs": [],
   "source": [
    "#multi step calculate diff at diff times so that diff models can be tested for diff time intervals\n",
    "#error metric -rmse"
   ]
  },
  {
   "cell_type": "code",
   "execution_count": 34,
   "metadata": {},
   "outputs": [],
   "source": [
    "# evaluate one or more weekly forecasts against expected values\n",
    "import matplotlib.pyplot as plt\n",
    "def evaluate_forecasts(actual, predicted):\n",
    "\tscores = list()\n",
    "\t# calculate an RMSE score for each day\n",
    "\t\n",
    "\tplt.show()\n",
    "\tfor i in range(actual.shape[1]):\n",
    "\t\t# calculate mse\n",
    "\t\tmse = mean_squared_error(actual[:, i], predicted[:, i])\n",
    "\t\t# calculate rmse\n",
    "\t\trmse = math.sqrt(mse)\n",
    "\t\t# store\n",
    "\t\tscores.append(rmse)\n",
    "\t# calculate overall RMSE\n",
    "\ts = 0\n",
    "\tfor row in range(actual.shape[0]):\n",
    "\t\tfor col in range(actual.shape[1]):\n",
    "\t\t\ts += (actual[row, col] - predicted[row, col])**2\n",
    "\tscore = math.sqrt(s / (actual.shape[0] * actual.shape[1]))\n",
    "\treturn score, scores"
   ]
  },
  {
   "cell_type": "code",
   "execution_count": 12,
   "metadata": {},
   "outputs": [],
   "source": [
    "# split a univariate dataset into train/test sets\n",
    "def split_dataset(data):\n",
    "\t# split into standard weeks\n",
    "\ttrain, test = data[1:-328], data[-328:-6]\n",
    "\t# restructure into windows of weekly data\n",
    "\ttrain = np.array(np.split(train, len(train)/7))\n",
    "\ttest = np.array(np.split(test, len(test)/7))\n",
    "\treturn train, test\n",
    "    "
   ]
  },
  {
   "cell_type": "code",
   "execution_count": 13,
   "metadata": {},
   "outputs": [
    {
     "name": "stdout",
     "output_type": "stream",
     "text": [
      "(159, 7, 8)\n",
      "3390.46 1309.268\n",
      "(46, 7, 8)\n",
      "2083.454 2197.006\n"
     ]
    }
   ],
   "source": [
    "# split into standard weeks\n",
    "from numpy import split\n",
    "from numpy import array\n",
    "from pandas import read_csv\n",
    "\n",
    "# split a univariate dataset into train/test sets\n",
    "def split_dataset(data):\n",
    "\t# split into standard weeks\n",
    "\ttrain, test = data[1:-328], data[-328:-6]\n",
    "\t# restructure into windows of weekly data\n",
    "\ttrain = array(split(train, len(train)/7))\n",
    "\ttest = array(split(test, len(test)/7))\n",
    "\treturn train, test\n",
    "\n",
    "# load the new file\n",
    "dataset = read_csv('household_power_consumption_days.csv', header=0, infer_datetime_format=True, parse_dates=['datetime'], index_col=['datetime'])\n",
    "train, test = split_dataset(dataset.values)\n",
    "# validate train data\n",
    "print(train.shape)\n",
    "print(train[0, 0, 0], train[-1, -1, 0])\n",
    "# validate test\n",
    "print(test.shape)\n",
    "print(test[0, 0, 0], test[-1, -1, 0])\n",
    "#159 weeks for train and 46 weeks for test "
   ]
  },
  {
   "cell_type": "code",
   "execution_count": 14,
   "metadata": {},
   "outputs": [],
   "source": [
    "#walk forward validation where w1 then test access then w2...\n"
   ]
  },
  {
   "cell_type": "code",
   "execution_count": 38,
   "metadata": {},
   "outputs": [],
   "source": [
    "# evaluate a single model\n",
    "def evaluate_model(model, train, test, n_input):\n",
    "\t# history is a list of weekly data\n",
    "\thistory = [x for x in train]\n",
    "\t# walk-forward validation over each week\n",
    "\tpredictions = list()\n",
    "\tfor i in range(len(test)):\n",
    "\t\t# predict the week\n",
    "\t\tyhat_sequence = ...\n",
    "\t\t# store the predictions\n",
    "\t\tpredictions.append(yhat_sequence)\n",
    "\t\t# get real observation and add to history for predicting the next week\n",
    "\t\thistory.append(test[i, :])\n",
    "\tpredictions = array(predictions)\n",
    "\t# evaluate predictions days for each week\n",
    "\tscore, scores = evaluate_forecasts(test[:, :, 0], predictions)\n",
    "\treturn score, scores"
   ]
  },
  {
   "cell_type": "code",
   "execution_count": 40,
   "metadata": {},
   "outputs": [],
   "source": [
    "# summarize scores\n",
    "def summarize_scores(name, score, scores):\n",
    "\ts_scores = ', '.join(['%.1f' % s for s in scores])\n",
    "\tprint('%s: [%.3f] %s' % (name, score, s_scores))"
   ]
  },
  {
   "cell_type": "code",
   "execution_count": 41,
   "metadata": {},
   "outputs": [],
   "source": [
    "#problem- single output by most algo:use recursion"
   ]
  },
  {
   "cell_type": "code",
   "execution_count": 42,
   "metadata": {},
   "outputs": [],
   "source": [
    "# convert windows of weekly multivariate data into a series of total power\n",
    "def to_series(data):\n",
    "\t# extract just the total power from each week\n",
    "\tseries = [week[:, 0] for week in data]\n",
    "\t# flatten into a single series\n",
    "\tseries = array(series).flatten()\n",
    "\treturn series"
   ]
  },
  {
   "cell_type": "code",
   "execution_count": 19,
   "metadata": {},
   "outputs": [],
   "source": [
    "# convert history into inputs and outputs\n",
    "def to_supervised(history, n_input):\n",
    "\t# convert history to a univariate series\n",
    "\tdata = to_series(history)\n",
    "\tX, y = list(), list()\n",
    "\tix_start = 0\n",
    "\t# step over the entire history one time step at a time\n",
    "\tfor i in range(len(data)):\n",
    "\t\t# define the end of the input sequence\n",
    "\t\tix_end = ix_start + n_input\n",
    "\t\t# ensure we have enough data for this instance\n",
    "\t\tif ix_end < len(data):\n",
    "\t\t\tX.append(data[ix_start:ix_end])\n",
    "\t\t\ty.append(data[ix_end])\n",
    "\t\t# move along one time step\n",
    "\t\tix_start += 1\n",
    "\treturn array(X), array(y)"
   ]
  },
  {
   "cell_type": "code",
   "execution_count": 20,
   "metadata": {},
   "outputs": [],
   "source": [
    "# create a feature preparation pipeline for a model\n",
    "from sklearn.pipeline import Pipeline\n",
    "from sklearn.preprocessing import StandardScaler\n",
    "from sklearn.preprocessing import MinMaxScaler\n",
    "\n",
    "def make_pipeline(model):\n",
    "\tsteps = list()\n",
    "\t# standardization\n",
    "\tsteps.append(('standardize', StandardScaler()))\n",
    "\t# normalization\n",
    "\tsteps.append(('normalize', MinMaxScaler()))\n",
    "\t# the model\n",
    "\tsteps.append(('model', model))\n",
    "\t# create pipeline\n",
    "\tpipeline = Pipeline(steps=steps)\n",
    "\treturn pipeline"
   ]
  },
  {
   "cell_type": "code",
   "execution_count": 21,
   "metadata": {},
   "outputs": [],
   "source": [
    "# fit a model and make a forecast\n",
    "def sklearn_predict(model, history, n_input):\n",
    "\t# prepare data\n",
    "\ttrain_x, train_y = to_supervised(history, n_input)\n",
    "\t# make pipeline\n",
    "\tpipeline = make_pipeline(model)\n",
    "\t# fit the model\n",
    "\tpipeline.fit(train_x, train_y)\n",
    "\t# predict the week, recursively\n",
    "\tyhat_sequence = forecast(pipeline, train_x[-1, :], n_input)\n",
    "\treturn yhat_sequence"
   ]
  },
  {
   "cell_type": "code",
   "execution_count": 22,
   "metadata": {},
   "outputs": [],
   "source": [
    "# make a recursive multi-step forecast\n",
    "def forecast(model, input_x, n_input):\n",
    "\tyhat_sequence = list()\n",
    "\tinput_data = [x for x in input_x]\n",
    "\tfor j in range(7):\n",
    "\t\t# prepare the input data\n",
    "\t\tX = array(input_data[-n_input:]).reshape(1, n_input)\n",
    "\t\t# make a one-step forecast\n",
    "\t\tyhat = model.predict(X)[0]\n",
    "\t\t# add to the result\n",
    "\t\tyhat_sequence.append(yhat)\n",
    "\t\t# add the prediction to the input\n",
    "\t\tinput_data.append(yhat)\n",
    "\treturn yhat_sequence"
   ]
  },
  {
   "cell_type": "code",
   "execution_count": 43,
   "metadata": {},
   "outputs": [],
   "source": [
    "# evaluate a single model\n",
    "def evaluate_model(model, train, test, n_input):\n",
    "\t# history is a list of weekly data\n",
    "\thistory = [x for x in train]\n",
    "\t# walk-forward validation over each week\n",
    "\tpredictions = list()\n",
    "\tfor i in range(len(test)):\n",
    "\t\t# predict the week\n",
    "\t\tyhat_sequence = sklearn_predict(model, history, n_input)\n",
    "\t\t# store the predictions\n",
    "\t\tpredictions.append(yhat_sequence)\n",
    "\t\t# get real observation and add to history for predicting the next week\n",
    "\t\thistory.append(test[i, :])\n",
    "\tpredictions = array(predictions)\n",
    "\t# evaluate predictions days for each week\n",
    "\tscore, scores = evaluate_forecasts(test[:, :, 0], predictions)\n",
    "\treturn score, scores"
   ]
  },
  {
   "cell_type": "code",
   "execution_count": 44,
   "metadata": {},
   "outputs": [
    {
     "ename": "ValueError",
     "evalue": "array split does not result in an equal division",
     "output_type": "error",
     "traceback": [
      "\u001b[1;31m---------------------------------------------------------------------------\u001b[0m",
      "\u001b[1;31mValueError\u001b[0m                                Traceback (most recent call last)",
      "\u001b[1;32mc:\\Users\\jaska\\Desktop\\smart_grid\\diff_model_analysis.ipynb Cell 24'\u001b[0m in \u001b[0;36m<module>\u001b[1;34m\u001b[0m\n\u001b[0;32m      <a href='vscode-notebook-cell:/c%3A/Users/jaska/Desktop/smart_grid/diff_model_analysis.ipynb#ch0000023?line=0'>1</a>\u001b[0m \u001b[39m#linear models:\u001b[39;00m\n\u001b[0;32m      <a href='vscode-notebook-cell:/c%3A/Users/jaska/Desktop/smart_grid/diff_model_analysis.ipynb#ch0000023?line=1'>2</a>\u001b[0m \u001b[39m# split into train and test\u001b[39;00m\n\u001b[1;32m----> <a href='vscode-notebook-cell:/c%3A/Users/jaska/Desktop/smart_grid/diff_model_analysis.ipynb#ch0000023?line=2'>3</a>\u001b[0m train, test \u001b[39m=\u001b[39m split_dataset(dataset\u001b[39m.\u001b[39;49mvalues)\n",
      "\u001b[1;32mc:\\Users\\jaska\\Desktop\\smart_grid\\diff_model_analysis.ipynb Cell 26'\u001b[0m in \u001b[0;36msplit_dataset\u001b[1;34m(data)\u001b[0m\n\u001b[0;32m     <a href='vscode-notebook-cell:/c%3A/Users/jaska/Desktop/smart_grid/diff_model_analysis.ipynb#ch0000025?line=15'>16</a>\u001b[0m train, test \u001b[39m=\u001b[39m data[\u001b[39m1\u001b[39m:\u001b[39m-\u001b[39m\u001b[39m328\u001b[39m], data[\u001b[39m-\u001b[39m\u001b[39m328\u001b[39m:\u001b[39m-\u001b[39m\u001b[39m6\u001b[39m]\n\u001b[0;32m     <a href='vscode-notebook-cell:/c%3A/Users/jaska/Desktop/smart_grid/diff_model_analysis.ipynb#ch0000025?line=16'>17</a>\u001b[0m \u001b[39m# restructure into windows of weekly data\u001b[39;00m\n\u001b[1;32m---> <a href='vscode-notebook-cell:/c%3A/Users/jaska/Desktop/smart_grid/diff_model_analysis.ipynb#ch0000025?line=17'>18</a>\u001b[0m train \u001b[39m=\u001b[39m array(split(train, \u001b[39mlen\u001b[39;49m(train)\u001b[39m/\u001b[39;49m\u001b[39m7\u001b[39;49m))\n\u001b[0;32m     <a href='vscode-notebook-cell:/c%3A/Users/jaska/Desktop/smart_grid/diff_model_analysis.ipynb#ch0000025?line=18'>19</a>\u001b[0m test \u001b[39m=\u001b[39m array(split(test, \u001b[39mlen\u001b[39m(test)\u001b[39m/\u001b[39m\u001b[39m7\u001b[39m))\n\u001b[0;32m     <a href='vscode-notebook-cell:/c%3A/Users/jaska/Desktop/smart_grid/diff_model_analysis.ipynb#ch0000025?line=19'>20</a>\u001b[0m \u001b[39mreturn\u001b[39;00m train, test\n",
      "File \u001b[1;32m<__array_function__ internals>:180\u001b[0m, in \u001b[0;36msplit\u001b[1;34m(*args, **kwargs)\u001b[0m\n",
      "File \u001b[1;32mC:\\Python310\\lib\\site-packages\\numpy\\lib\\shape_base.py:872\u001b[0m, in \u001b[0;36msplit\u001b[1;34m(ary, indices_or_sections, axis)\u001b[0m\n\u001b[0;32m    <a href='file:///c%3A/Python310/lib/site-packages/numpy/lib/shape_base.py?line=869'>870</a>\u001b[0m     N \u001b[39m=\u001b[39m ary\u001b[39m.\u001b[39mshape[axis]\n\u001b[0;32m    <a href='file:///c%3A/Python310/lib/site-packages/numpy/lib/shape_base.py?line=870'>871</a>\u001b[0m     \u001b[39mif\u001b[39;00m N \u001b[39m%\u001b[39m sections:\n\u001b[1;32m--> <a href='file:///c%3A/Python310/lib/site-packages/numpy/lib/shape_base.py?line=871'>872</a>\u001b[0m         \u001b[39mraise\u001b[39;00m \u001b[39mValueError\u001b[39;00m(\n\u001b[0;32m    <a href='file:///c%3A/Python310/lib/site-packages/numpy/lib/shape_base.py?line=872'>873</a>\u001b[0m             \u001b[39m'\u001b[39m\u001b[39marray split does not result in an equal division\u001b[39m\u001b[39m'\u001b[39m) \u001b[39mfrom\u001b[39;00m \u001b[39mNone\u001b[39m\n\u001b[0;32m    <a href='file:///c%3A/Python310/lib/site-packages/numpy/lib/shape_base.py?line=873'>874</a>\u001b[0m \u001b[39mreturn\u001b[39;00m array_split(ary, indices_or_sections, axis)\n",
      "\u001b[1;31mValueError\u001b[0m: array split does not result in an equal division"
     ]
    }
   ],
   "source": [
    "#linear models:\n",
    "# split into train and test\n",
    "train, test = split_dataset(dataset.values)"
   ]
  },
  {
   "cell_type": "code",
   "execution_count": null,
   "metadata": {},
   "outputs": [
    {
     "name": "stdout",
     "output_type": "stream",
     "text": [
      "Defined 10 models\n"
     ]
    },
    {
     "ename": "IndexError",
     "evalue": "too many indices for array: array is 1-dimensional, but 2 were indexed",
     "output_type": "error",
     "traceback": [
      "\u001b[1;31m---------------------------------------------------------------------------\u001b[0m",
      "\u001b[1;31mIndexError\u001b[0m                                Traceback (most recent call last)",
      "\u001b[1;32mc:\\Users\\jaska\\Desktop\\smart_grid\\diff_model_analysis.ipynb Cell 25'\u001b[0m in \u001b[0;36m<module>\u001b[1;34m\u001b[0m\n\u001b[0;32m     <a href='vscode-notebook-cell:/c%3A/Users/jaska/Desktop/smart_grid/diff_model_analysis.ipynb#ch0000024?line=45'>46</a>\u001b[0m days \u001b[39m=\u001b[39m [\u001b[39m'\u001b[39m\u001b[39msun\u001b[39m\u001b[39m'\u001b[39m, \u001b[39m'\u001b[39m\u001b[39mmon\u001b[39m\u001b[39m'\u001b[39m, \u001b[39m'\u001b[39m\u001b[39mtue\u001b[39m\u001b[39m'\u001b[39m, \u001b[39m'\u001b[39m\u001b[39mwed\u001b[39m\u001b[39m'\u001b[39m, \u001b[39m'\u001b[39m\u001b[39mthr\u001b[39m\u001b[39m'\u001b[39m, \u001b[39m'\u001b[39m\u001b[39mfri\u001b[39m\u001b[39m'\u001b[39m, \u001b[39m'\u001b[39m\u001b[39msat\u001b[39m\u001b[39m'\u001b[39m]\n\u001b[0;32m     <a href='vscode-notebook-cell:/c%3A/Users/jaska/Desktop/smart_grid/diff_model_analysis.ipynb#ch0000024?line=46'>47</a>\u001b[0m \u001b[39mfor\u001b[39;00m name, model \u001b[39min\u001b[39;00m models\u001b[39m.\u001b[39mitems():\n\u001b[0;32m     <a href='vscode-notebook-cell:/c%3A/Users/jaska/Desktop/smart_grid/diff_model_analysis.ipynb#ch0000024?line=47'>48</a>\u001b[0m \t\u001b[39m# evaluate and get scores\u001b[39;00m\n\u001b[1;32m---> <a href='vscode-notebook-cell:/c%3A/Users/jaska/Desktop/smart_grid/diff_model_analysis.ipynb#ch0000024?line=48'>49</a>\u001b[0m \tscore, scores \u001b[39m=\u001b[39m evaluate_model(model, train, test, n_input)\n\u001b[0;32m     <a href='vscode-notebook-cell:/c%3A/Users/jaska/Desktop/smart_grid/diff_model_analysis.ipynb#ch0000024?line=49'>50</a>\u001b[0m \t\u001b[39m# summarize scores\u001b[39;00m\n\u001b[0;32m     <a href='vscode-notebook-cell:/c%3A/Users/jaska/Desktop/smart_grid/diff_model_analysis.ipynb#ch0000024?line=50'>51</a>\u001b[0m \tsummarize_scores(name, score, scores)\n",
      "\u001b[1;32mc:\\Users\\jaska\\Desktop\\smart_grid\\diff_model_analysis.ipynb Cell 15'\u001b[0m in \u001b[0;36mevaluate_model\u001b[1;34m(model, train, test, n_input)\u001b[0m\n\u001b[0;32m     <a href='vscode-notebook-cell:/c%3A/Users/jaska/Desktop/smart_grid/diff_model_analysis.ipynb#ch0000014?line=13'>14</a>\u001b[0m predictions \u001b[39m=\u001b[39m array(predictions)\n\u001b[0;32m     <a href='vscode-notebook-cell:/c%3A/Users/jaska/Desktop/smart_grid/diff_model_analysis.ipynb#ch0000014?line=14'>15</a>\u001b[0m \u001b[39m# evaluate predictions days for each week\u001b[39;00m\n\u001b[1;32m---> <a href='vscode-notebook-cell:/c%3A/Users/jaska/Desktop/smart_grid/diff_model_analysis.ipynb#ch0000014?line=15'>16</a>\u001b[0m score, scores \u001b[39m=\u001b[39m evaluate_forecasts(test[:, :, \u001b[39m0\u001b[39;49m], predictions)\n\u001b[0;32m     <a href='vscode-notebook-cell:/c%3A/Users/jaska/Desktop/smart_grid/diff_model_analysis.ipynb#ch0000014?line=16'>17</a>\u001b[0m \u001b[39mreturn\u001b[39;00m score, scores\n",
      "\u001b[1;32mc:\\Users\\jaska\\Desktop\\smart_grid\\diff_model_analysis.ipynb Cell 11'\u001b[0m in \u001b[0;36mevaluate_forecasts\u001b[1;34m(actual, predicted)\u001b[0m\n\u001b[0;32m      <a href='vscode-notebook-cell:/c%3A/Users/jaska/Desktop/smart_grid/diff_model_analysis.ipynb#ch0000010?line=6'>7</a>\u001b[0m plt\u001b[39m.\u001b[39mshow()\n\u001b[0;32m      <a href='vscode-notebook-cell:/c%3A/Users/jaska/Desktop/smart_grid/diff_model_analysis.ipynb#ch0000010?line=7'>8</a>\u001b[0m \u001b[39mfor\u001b[39;00m i \u001b[39min\u001b[39;00m \u001b[39mrange\u001b[39m(actual\u001b[39m.\u001b[39mshape[\u001b[39m1\u001b[39m]):\n\u001b[0;32m      <a href='vscode-notebook-cell:/c%3A/Users/jaska/Desktop/smart_grid/diff_model_analysis.ipynb#ch0000010?line=8'>9</a>\u001b[0m \t\u001b[39m# calculate mse\u001b[39;00m\n\u001b[1;32m---> <a href='vscode-notebook-cell:/c%3A/Users/jaska/Desktop/smart_grid/diff_model_analysis.ipynb#ch0000010?line=9'>10</a>\u001b[0m \tmse \u001b[39m=\u001b[39m mean_squared_error(actual[:, i], predicted[:, i])\n\u001b[0;32m     <a href='vscode-notebook-cell:/c%3A/Users/jaska/Desktop/smart_grid/diff_model_analysis.ipynb#ch0000010?line=10'>11</a>\u001b[0m \t\u001b[39m# calculate rmse\u001b[39;00m\n\u001b[0;32m     <a href='vscode-notebook-cell:/c%3A/Users/jaska/Desktop/smart_grid/diff_model_analysis.ipynb#ch0000010?line=11'>12</a>\u001b[0m \trmse \u001b[39m=\u001b[39m math\u001b[39m.\u001b[39msqrt(mse)\n",
      "\u001b[1;31mIndexError\u001b[0m: too many indices for array: array is 1-dimensional, but 2 were indexed"
     ]
    }
   ],
   "source": [
    "# recursive multi-step forecast with linear algorithms\n",
    "from math import sqrt\n",
    "from numpy import split\n",
    "from numpy import array\n",
    "from pandas import read_csv\n",
    "from sklearn.metrics import mean_squared_error\n",
    "from matplotlib import pyplot\n",
    "from sklearn.preprocessing import StandardScaler\n",
    "from sklearn.preprocessing import MinMaxScaler\n",
    "from sklearn.pipeline import Pipeline\n",
    "from sklearn.linear_model import LinearRegression\n",
    "from sklearn.linear_model import Lasso\n",
    "from sklearn.linear_model import Ridge\n",
    "from sklearn.linear_model import ElasticNet\n",
    "from sklearn.linear_model import HuberRegressor\n",
    "from sklearn.linear_model import Lars\n",
    "from sklearn.linear_model import LassoLars\n",
    "from sklearn.linear_model import PassiveAggressiveRegressor\n",
    "from sklearn.linear_model import RANSACRegressor\n",
    "from sklearn.linear_model import SGDRegressor\n",
    "\n",
    "\n",
    "\n",
    "\n",
    "# prepare a list of ml models\n",
    "def get_models(models=dict()):\n",
    "\t# linear models\n",
    "\tmodels['lr'] = LinearRegression()\n",
    "\tmodels['lasso'] = Lasso()\n",
    "\tmodels['ridge'] = Ridge()\n",
    "\tmodels['en'] = ElasticNet()\n",
    "\tmodels['huber'] = HuberRegressor()\n",
    "\tmodels['lars'] = Lars()\n",
    "\tmodels['llars'] = LassoLars()\n",
    "\tmodels['pa'] = PassiveAggressiveRegressor(max_iter=1000, tol=1e-3)\n",
    "\tmodels['ranscac'] = RANSACRegressor()\n",
    "\tmodels['sgd'] = SGDRegressor(max_iter=1000, tol=1e-3)\n",
    "\tprint('Defined %d models' % len(models))\n",
    "\treturn models\n",
    "\n",
    "\n",
    "\n",
    "models = get_models()\n",
    "n_input = 7\n",
    "# evaluate each model\n",
    "days = ['sun', 'mon', 'tue', 'wed', 'thr', 'fri', 'sat']\n",
    "for name, model in models.items():\n",
    "\t# evaluate and get scores\n",
    "\tscore, scores = evaluate_model(model, train, test, n_input)\n",
    "\t# summarize scores\n",
    "\tsummarize_scores(name, score, scores)\n",
    "\t# plot scores\n",
    "\tpyplot.plot(days, scores, marker='o', label=name)\n",
    "# show plot\n",
    "pyplot.legend()\n",
    "pyplot.show()"
   ]
  },
  {
   "cell_type": "code",
   "execution_count": null,
   "metadata": {},
   "outputs": [],
   "source": []
  },
  {
   "cell_type": "code",
   "execution_count": 27,
   "metadata": {},
   "outputs": [],
   "source": []
  },
  {
   "cell_type": "code",
   "execution_count": null,
   "metadata": {},
   "outputs": [],
   "source": []
  }
 ],
 "metadata": {
  "interpreter": {
   "hash": "2be5faf79681da6f2a61fdfdd5405d65d042280f7fba6178067603e3a2925119"
  },
  "kernelspec": {
   "display_name": "Python 3.10.2 64-bit",
   "language": "python",
   "name": "python3"
  },
  "language_info": {
   "codemirror_mode": {
    "name": "ipython",
    "version": 3
   },
   "file_extension": ".py",
   "mimetype": "text/x-python",
   "name": "python",
   "nbconvert_exporter": "python",
   "pygments_lexer": "ipython3",
   "version": "3.10.2"
  },
  "orig_nbformat": 4
 },
 "nbformat": 4,
 "nbformat_minor": 2
}
